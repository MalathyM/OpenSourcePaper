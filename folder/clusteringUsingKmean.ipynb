{
 "cells": [
  {
   "cell_type": "code",
   "execution_count": null,
   "metadata": {},
   "outputs": [],
   "source": [
    "import pandas as pd\n",
    "import io\n",
    "import requests\n",
    "import numpy as np \n",
    "from sklearn.feature_extraction.text import TfidfVectorizer\n",
    "from sklearn.cluster import KMeans\n",
    "from sklearn.metrics import adjusted_rand_score"
   ]
  },
  {
   "cell_type": "code",
   "execution_count": 6,
   "metadata": {},
   "outputs": [],
   "source": [
    "data = ['The Effects of Programming Style on Open Source Collaboration.',\n",
    "'On the Role of Module Interdependencies in Platform Evolution.,',\n",
    " 'Special Section Introduction—Online Community as Space for Knowledge Flows. Information systems research',\n",
    "'Coordinating interdependencies in online communities: A study of an open source software project. Information Systems Research,',\n",
    "        '\"Collaboration Through Open Superposition: A Theory of the Open Source Way,\"',\n",
    "        'Effect of “Following” on Contributions to Open Source Communities. Journal of Management Information Systems,',\n",
    "        'The Algorithmic Interaction Order in Open Source.',\n",
    "'Competitive strategy for open source software. Marketing Science,',\n",
    "        'Crowdsourcing Software Requirements and Development: A Mechanism-based Exploration of ‘Opensourcing’.',\n",
    "        'Innovating with open-sourcing: governance concerns for managers.',\n",
    "        'Open source movements as a model for organising. European Journal of Information Systems',\n",
    "        'Navigating open source adoption in the public sector.',\n",
    "        'Justifying the Value of Open Source. In ECIS.',\n",
    "        'Influence of community design on user behaviors in online communities. Journal of Business Research',\n",
    "        'Attractiveness Of Free And Open Source Software Projects.',\n",
    "        'Exploring the foundations of cumulative innovation: Implications for organization science. Organization Science',\n",
    "        'Editorial overview—The interplay between digital and social networks'\n",
    "        'Firms as incubators of open-source software. Information Systems Research',\n",
    "        'How peripheral developers contribute to open-source software development. Information Systems Research',\n",
    "        'Perspective shifts in marketing: toward a paradigm change?. Service Science',\n",
    "         'Open content, Linus’ Law, and neutral point of view. Information Systems Research',\n",
    "        'Motivation of software developers in Open Source projects: an Internet-based survey of contributors to the Linux kernel',\n",
    "        'The open source movement: Key research questions. European economic review, ',\n",
    "        'The promise of research on open source software. Management science, ',\n",
    "        'Relationships between open source software companies and communities: Observations from Nordic firms. Research policy',\n",
    "        'The impact of ideology on effectiveness in open source software development teams.',\n",
    "        'How open source software works:“free” user-to-user assistance.',\n",
    "        'Working for free? Motivations for participating in open-source projects',\n",
    "        'A theory of responsive design: A field study of corporate engagement with open source communities. Information Systems Research',\n",
    "        ' Generating Value Through Open Source: Software Service Market Regulation and Licensing Policy. Information Systems Research',\n",
    "        'Impacts of license choice and organizational sponsorship on user interest and development activity in open source software projects. Information Systems Research',\n",
    "        'Open collaboration for innovation: Principles and performance. Organization Science, ',\n",
    "        'Licensing and competition for services in open source software. Information Systems Research, ',\n",
    "        'Motivation, governance, and the viability of hybrid forms in open source software development. Management science,',\n",
    "        'Two-sided competition of proprietary vs. open source technology platforms and the implications for the software industry.',\n",
    "        'Open or closed? technology sharing, supplier investment, and competition. Manufacturing & Service Operations Management',\n",
    "        ' Why hackers do what they do: Understanding motivation and effort in free/open source software projects.',\n",
    "        'Exploring motivations for contributing to open source initiatives: The roles of contribution context and personal values. Computers in human behavior',\n",
    "        'The role of participation architecture in growing sponsored open source communities. Industry and innovation',\n",
    "        'Open source software development—Just another case of collective invention?. Research Policy',\n",
    "        'Comparing motivations of individual programmers and firms to take part in the open source movement: From community to business. Knowledge, Technology & Policy',\n",
    "        'Some simple economics of open source. The journal of industrial economics,',\n",
    "        'Some simple economics of open source. The journal of industrial economics,',\n",
    "        'Special issue on open source software development.','Riehle, D., 2007. The economic motivation of open source software: Stakeholder perspectives. ',\n",
    "        'New learning network paradigms: Communities of objectives, crowdsourcing, wikis and open source. International Journal of Information Management,',\n",
    "        'The governance of open source initiatives: what does it mean to be community managed?. Journal of Management & Governance, ',\n",
    "        'An analysis of open source business models.', 'The ecology of open-source software development.'\n",
    "        ,'The open source software phenomenon: Characteristics that promote research. The Journal of Strategic Information Systems'\n",
    "]"
   ]
  },
  {
   "cell_type": "code",
   "execution_count": 7,
   "metadata": {},
   "outputs": [
    {
     "name": "stdout",
     "output_type": "stream",
     "text": [
      "Top terms per cluster:\n",
      "Cluster 0:\n",
      " systems\n",
      " information\n",
      " open\n",
      " source\n",
      " research\n",
      " software\n",
      " competition\n",
      " value\n",
      " collaboration\n",
      " journal\n",
      "Cluster 1:\n",
      " science\n",
      " software\n",
      " development\n",
      " open\n",
      " governance\n",
      " source\n",
      " organization\n",
      " management\n",
      " motivation\n",
      " marketing\n",
      "Cluster 2:\n",
      " communities\n",
      " policy\n",
      " user\n",
      " role\n",
      " firms\n",
      " research\n",
      " business\n",
      " community\n",
      " source\n",
      " open\n",
      "Cluster 3:\n",
      " economics\n",
      " free\n",
      " projects\n",
      " journal\n",
      " source\n",
      " open\n",
      " simple\n",
      " industrial\n",
      " attractiveness\n",
      " international\n",
      "\n",
      "\n"
     ]
    }
   ],
   "source": [
    "vectorizer = TfidfVectorizer(stop_words='english')\n",
    "X = vectorizer.fit_transform(data)\n",
    "\n",
    "true_k = 4\n",
    "model = KMeans(n_clusters=true_k, init='k-means++', max_iter=100, n_init=1)\n",
    "model.fit(X)\n",
    "\n",
    "print(\"Top terms per cluster:\")\n",
    "order_centroids = model.cluster_centers_.argsort()[:, ::-1]\n",
    "terms = vectorizer.get_feature_names()\n",
    "for i in range(true_k):\n",
    "    print(\"Cluster %d:\" % i),\n",
    "    for ind in order_centroids[i, :10]:\n",
    "        print(' %s' % terms[ind]),\n",
    "        \n",
    "    print\n",
    "\n",
    "print(\"\\n\")"
   ]
  },
  {
   "cell_type": "code",
   "execution_count": 8,
   "metadata": {},
   "outputs": [],
   "source": [
    "Y = vectorizer.transform(data)\n",
    "prediction = model.predict(Y)\n",
    "k=prediction"
   ]
  },
  {
   "cell_type": "code",
   "execution_count": 9,
   "metadata": {},
   "outputs": [
    {
     "data": {
      "text/plain": [
       "array([0, 2, 0, 0, 0, 0, 0, 1, 1, 1, 0, 0, 0, 2, 3, 1, 0, 0, 1, 0, 1, 0,\n",
       "       1, 2, 1, 2, 3, 0, 0, 0, 1, 0, 1, 0, 0, 3, 3, 2, 2, 2, 3, 3, 1, 1,\n",
       "       3, 1, 0, 1, 0], dtype=int32)"
      ]
     },
     "execution_count": 9,
     "metadata": {},
     "output_type": "execute_result"
    }
   ],
   "source": [
    "k"
   ]
  },
  {
   "cell_type": "code",
   "execution_count": 10,
   "metadata": {},
   "outputs": [],
   "source": [
    "clus0=[]\n",
    "clus1=[]\n",
    "clus2=[]\n",
    "clus3=[]\n",
    "for i in range(0,49):\n",
    "    if(k[i]==0):\n",
    "        clus0.append(data[i])\n",
    "    elif(k[i]==1):\n",
    "        clus1.append(data[i])\n",
    "    elif(k[i]==2):\n",
    "        clus2.append(data[i])\n",
    "    elif(k[i]==3):\n",
    "        clus3.append(data[i])"
   ]
  },
  {
   "cell_type": "code",
   "execution_count": 11,
   "metadata": {},
   "outputs": [
    {
     "name": "stdout",
     "output_type": "stream",
     "text": [
      "clus0\n",
      "['The Effects of Programming Style on Open Source Collaboration.', 'Special Section Introduction—Online Community as Space for Knowledge Flows. Information systems research', 'Coordinating interdependencies in online communities: A study of an open source software project. Information Systems Research,', '\"Collaboration Through Open Superposition: A Theory of the Open Source Way,\"', 'Effect of “Following” on Contributions to Open Source Communities. Journal of Management Information Systems,', 'The Algorithmic Interaction Order in Open Source.', 'Open source movements as a model for organising. European Journal of Information Systems', 'Navigating open source adoption in the public sector.', 'Justifying the Value of Open Source. In ECIS.', 'Editorial overview—The interplay between digital and social networksFirms as incubators of open-source software. Information Systems Research', 'How peripheral developers contribute to open-source software development. Information Systems Research', 'Greenstein, S. and Zhu, F., 2016. Open content, Linus’ Law, and neutral point of view. Information Systems Research', 'The open source movement: Key research questions. European economic review, ', 'A theory of responsive design: A field study of corporate engagement with open source communities. Information Systems Research', ' Generating Value Through Open Source: Software Service Market Regulation and Licensing Policy. Information Systems Research', 'Impacts of license choice and organizational sponsorship on user interest and development activity in open source software projects. Information Systems Research', 'Licensing and competition for services in open source software. Information Systems Research, ', 'Two-sided competition of proprietary vs. open source technology platforms and the implications for the software industry.', 'Open or closed? technology sharing, supplier investment, and competition. Manufacturing & Service Operations Management', 'An analysis of open source business models.', 'The open source software phenomenon: Characteristics that promote research. The Journal of Strategic Information Systems']\n",
      "clus1\n",
      "['Competitive strategy for open source software. Marketing Science,', 'Crowdsourcing Software Requirements and Development: A Mechanism-based Exploration of ‘Opensourcing’.', 'Innovating with open-sourcing: governance concerns for managers.', 'Exploring the foundations of cumulative innovation: Implications for organization science. Organization Science', 'Perspective shifts in marketing: toward a paradigm change?. Service Science', 'Motivation of software developers in Open Source projects: an Internet-based survey of contributors to the Linux kernel', 'The promise of research on open source software. Management science, ', 'The impact of ideology on effectiveness in open source software development teams. Mis Quarterly', 'Open collaboration for innovation: Principles and performance. Organization Science, ', 'Motivation, governance, and the viability of hybrid forms in open source software development. Management science,', 'Special issue on open source software development.', 'Riehle, D., 2007. The economic motivation of open source software: Stakeholder perspectives. ', 'The governance of open source initiatives: what does it mean to be community managed?. Journal of Management & Governance, ', 'Healy, K. and Schussman, A., 2003. The ecology of open-source software development.']\n",
      "clus2\n",
      "['On the Role of Module Interdependencies in Platform Evolution.,', 'Influence of community design on user behaviors in online communities. Journal of Business Research', 'Relationships between open source software companies and communities: Observations from Nordic firms. Research policy', 'How open source software works:“free” user-to-user assistance. In Produktentwicklung mit virtuellen Communities', 'The role of participation architecture in growing sponsored open source communities. Industry and innovation', 'Open source software development—Just another case of collective invention?. Research Policy', 'Comparing motivations of individual programmers and firms to take part in the open source movement: From community to business. Knowledge, Technology & Policy']\n",
      "clus3\n",
      "['Attractiveness Of Free And Open Source Software Projects.', 'Working for free? Motivations for participating in open-source projects. International Journal of Electronic Commerce,', ' Why hackers do what they do: Understanding motivation and effort in free/open source software projects.', 'Exploring motivations for contributing to open source initiatives: The roles of contribution context and personal values. Computers in human behavior', 'Some simple economics of open source. The journal of industrial economics,', 'Some simple economics of open source. The journal of industrial economics,', 'New learning network paradigms: Communities of objectives, crowdsourcing, wikis and open source. International Journal of Information Management,']\n"
     ]
    }
   ],
   "source": [
    "print(\"clus0\")\n",
    "print(clus0)\n",
    "\n",
    "print(\"clus1\")\n",
    "print(clus1)\n",
    "\n",
    "print(\"clus2\")\n",
    "print(clus2)\n",
    "\n",
    "\n",
    "print(\"clus3\")\n",
    "print(clus3)\n",
    "\n"
   ]
  },
  {
   "cell_type": "code",
   "execution_count": null,
   "metadata": {},
   "outputs": [],
   "source": []
  }
 ],
 "metadata": {
  "kernelspec": {
   "display_name": "Python 3",
   "language": "python",
   "name": "python3"
  },
  "language_info": {
   "codemirror_mode": {
    "name": "ipython",
    "version": 3
   },
   "file_extension": ".py",
   "mimetype": "text/x-python",
   "name": "python",
   "nbconvert_exporter": "python",
   "pygments_lexer": "ipython3",
   "version": "3.6.5"
  }
 },
 "nbformat": 4,
 "nbformat_minor": 2
}
