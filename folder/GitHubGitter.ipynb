{
 "cells": [
  {
   "cell_type": "code",
   "execution_count": 1,
   "metadata": {},
   "outputs": [],
   "source": [
    "import json as js\n",
    "import os"
   ]
  },
  {
   "cell_type": "code",
   "execution_count": 2,
   "metadata": {},
   "outputs": [],
   "source": [
    "import pandas as pd"
   ]
  },
  {
   "cell_type": "code",
   "execution_count": 3,
   "metadata": {},
   "outputs": [],
   "source": [
    "datagitteruser = pd.read_csv('/Volumes/BootCamp/MohitsDocs/Certification and Projects/VProject/Files/csv/user_name_2017.csv')"
   ]
  },
  {
   "cell_type": "code",
   "execution_count": 4,
   "metadata": {},
   "outputs": [
    {
     "data": {
      "text/html": [
       "<div>\n",
       "<style scoped>\n",
       "    .dataframe tbody tr th:only-of-type {\n",
       "        vertical-align: middle;\n",
       "    }\n",
       "\n",
       "    .dataframe tbody tr th {\n",
       "        vertical-align: top;\n",
       "    }\n",
       "\n",
       "    .dataframe thead th {\n",
       "        text-align: right;\n",
       "    }\n",
       "</style>\n",
       "<table border=\"1\" class=\"dataframe\">\n",
       "  <thead>\n",
       "    <tr style=\"text-align: right;\">\n",
       "      <th></th>\n",
       "      <th>username</th>\n",
       "    </tr>\n",
       "  </thead>\n",
       "  <tbody>\n",
       "    <tr>\n",
       "      <th>0</th>\n",
       "      <td>texas2010</td>\n",
       "    </tr>\n",
       "    <tr>\n",
       "      <th>1</th>\n",
       "      <td>breese8009</td>\n",
       "    </tr>\n",
       "    <tr>\n",
       "      <th>2</th>\n",
       "      <td>apottr</td>\n",
       "    </tr>\n",
       "    <tr>\n",
       "      <th>3</th>\n",
       "      <td>wordyallen</td>\n",
       "    </tr>\n",
       "    <tr>\n",
       "      <th>4</th>\n",
       "      <td>GoestaO</td>\n",
       "    </tr>\n",
       "  </tbody>\n",
       "</table>\n",
       "</div>"
      ],
      "text/plain": [
       "     username\n",
       "0   texas2010\n",
       "1  breese8009\n",
       "2      apottr\n",
       "3  wordyallen\n",
       "4     GoestaO"
      ]
     },
     "execution_count": 4,
     "metadata": {},
     "output_type": "execute_result"
    }
   ],
   "source": [
    "datagitteruser.head()"
   ]
  },
  {
   "cell_type": "code",
   "execution_count": 5,
   "metadata": {},
   "outputs": [],
   "source": [
    "arrdataUserID = datagitteruser['username']"
   ]
  },
  {
   "cell_type": "code",
   "execution_count": 6,
   "metadata": {},
   "outputs": [],
   "source": [
    "json_path='/Volumes/BootCamp/MohitsDocs/Certification and Projects/VProject/Files/'"
   ]
  },
  {
   "cell_type": "code",
   "execution_count": 31,
   "metadata": {},
   "outputs": [],
   "source": [
    "#creating the dictionary to store the unique ids and there eventcounts\n",
    "arr=dict()\n",
    "#i is used for the first iteration of the dictionary insert key and value pair\n",
    "i=0\n",
    "#getting the files list from the given path\n",
    "json_files=[json_file for json_file in os.listdir(json_path)if json_file.endswith('.json')]\n",
    "#iterating the files using For loop\n",
    "for every_file in json_files:\n",
    "    data=open(json_path+'/'+every_file)\n",
    "    #reading the data and store it to the jsonrecord for the signle file\n",
    "    jsonrecords=data.readlines()\n",
    "    data.close()\n",
    "    #iteration over the data line by line and loading to the json form\n",
    "    for line in jsonrecords:\n",
    "        jsonstrings=js.loads(line)\n",
    "        #use unique Gitter UserID and now comparing the Gitter with Github login.\n",
    "        for userid in arrdataUserID:\n",
    "            if(jsonstrings['actor']['login']==userid):\n",
    "                #first iteration of loop and adding first element directly to dictionary\n",
    "                if(i==0):\n",
    "                    arr.update({userid:1})\n",
    "                    i=1\n",
    "                else:\n",
    "                    #from the next iteration checking whether the userid already present or not\n",
    "                    for key in list(arr):\n",
    "                        if(key==userid):\n",
    "                            k=arr.get(key)+1\n",
    "                            arr.update({userid:k})\n",
    "                            k=0\n",
    "                        else:\n",
    "                            arr.update({userid:1})\n",
    "    \n"
   ]
  },
  {
   "cell_type": "code",
   "execution_count": 32,
   "metadata": {},
   "outputs": [
    {
     "data": {
      "text/plain": [
       "{'soulchainer': 1,\n",
       " 'stormwild': 1,\n",
       " 'steveluo': 1,\n",
       " 'jayanthsagar': 2,\n",
       " 'yby415098820': 1,\n",
       " 'YanhaoMo': 1,\n",
       " 'stanilin': 1,\n",
       " 'aliuk2012': 1,\n",
       " 'DanCouper': 1,\n",
       " 'ericelliott': 1,\n",
       " 'fish267': 1,\n",
       " 'HuangFJ': 1,\n",
       " 'codemzy': 1,\n",
       " 'elimisteve': 1,\n",
       " 'yihangho': 1,\n",
       " 'VenkateshKatabathula': 1,\n",
       " 'jlambe': 1,\n",
       " 'byoigres': 1}"
      ]
     },
     "execution_count": 32,
     "metadata": {},
     "output_type": "execute_result"
    }
   ],
   "source": [
    "arr"
   ]
  },
  {
   "cell_type": "code",
   "execution_count": null,
   "metadata": {},
   "outputs": [],
   "source": []
  }
 ],
 "metadata": {
  "kernelspec": {
   "display_name": "Python 3",
   "language": "python",
   "name": "python3"
  },
  "language_info": {
   "codemirror_mode": {
    "name": "ipython",
    "version": 3
   },
   "file_extension": ".py",
   "mimetype": "text/x-python",
   "name": "python",
   "nbconvert_exporter": "python",
   "pygments_lexer": "ipython3",
   "version": "3.6.5"
  }
 },
 "nbformat": 4,
 "nbformat_minor": 2
}
