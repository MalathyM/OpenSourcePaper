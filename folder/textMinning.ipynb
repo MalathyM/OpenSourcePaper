{
 "cells": [
  {
   "cell_type": "code",
   "execution_count": 72,
   "metadata": {},
   "outputs": [],
   "source": [
    "import pandas as pd\n",
    "import io\n",
    "import requests\n",
    "import numpy as np \n",
    "from sklearn.feature_extraction.text import TfidfVectorizer\n",
    "from sklearn.cluster import KMeans\n",
    "from sklearn.metrics import adjusted_rand_score"
   ]
  },
  {
   "cell_type": "code",
   "execution_count": 73,
   "metadata": {},
   "outputs": [],
   "source": [
    "data = ['Wang, Z. and Hahn, J., 2017. The Effects of Programming Style on Open Source Collaboration.','Hukal, P., 2017. On the Role of Module Interdependencies in Platform Evolution.,',\n",
    "        'Faraj, S., von Krogh, G., Monteiro, E. and Lakhani, K.R., 2016. Special Section Introduction—Online Community as Space for Knowledge Flows. Information systems research, 27(4), pp.668-684.',\n",
    "'Mollick, E.,2016. Filthy lucre Innovative communities, identity, & commercialization. Organization Science, 27(6), pp.1472-1487.Lindberg, A., Berente, N., Gaskin, J. and Lyytinen, K., 2016. Coordinating interdependencies in online communities: A study of an open source software project. Information Systems Research, 27(4), pp.751-772',\n",
    "        'Howison, James and Crowston, Kevin. 2014. \"Collaboration Through Open Superposition: A Theory of the Open Source Way,\" MIS Quarterly, (38: 1) pp.29-50.',\n",
    "        'Moqri, M., Mei, X., Qiu, L. and Bandyopadhyay, S., 2018. Effect of “Following” on Contributions to Open Source Communities. Journal of Management Information Systems, 35(4), pp.1188-1217.',\n",
    "        'Shaikh, M. and Vaast, E., 2018. The Algorithmic Interaction Order in Open Source.','Kumar, V., Gordon, B.R. and Srinivasan, K., 2011. Competitive strategy for open source software. Marketing Science, 30(6), pp.1066-1078.','Naparat, D. and Finnegan, P., 2013. Crowdsourcing Software Requirements and Development: A Mechanism-based Exploration of ‘Opensourcing’.',\n",
    "        'Shaikh, M. and Cornford, T., 2009. Innovating with open-sourcing: governance concerns for managers.','Ljungberg, J., 2000. Open source movements as a model for organising. European Journal of Information Systems, 9(4), pp.208-216.',\n",
    "        'Shaikh, M. and Cornford, T., 2012. Navigating open source adoption in the public sector.','Bergquist, M., Ljungberg, J. and Rolandsson, B., 2012. Justifying the Value of Open Source. In ECIS (p. 122).',\n",
    "        'Fiedler, M. and Sarstedt, M., 2014. Influence of community design on user behaviors in online communities. Journal of Business Research, 67(11), pp.2258-2268.',\n",
    "        'Santos Jr, C.D., Kon, F. and Pearson, J., 2010. Attractiveness Of Free And Open Source Software Projects. In ECIS (p. 105).',\n",
    "        'Murray, F. and O Mahony, S., 2007. Exploring the foundations of cumulative innovation: Implications for organization science. Organization Science, 18(6), pp.1006-1021.','Agarwal, R., Gupta, A.K. and Kraut, R., 2008. Editorial overview—The interplay between digital and social networks'\n",
    "        'Mehra, A., Dewan, R. and Freimer, M., 2011. Firms as incubators of open-source software. Information Systems Research, 22(1), pp.22-38.',\n",
    "        ' Setia, P., Rajagopalan, B., Sambamurthy, V. and Calantone, R., 2012. How peripheral developers contribute to open-source software development. Information Systems Research, 23(1), pp.144-163.',\n",
    "        'Golinelli, G.M., Barile, S., Saviano, M. and Polese, F., 2012. Perspective shifts in marketing: toward a paradigm change?. Service Science, 4(2), pp.121-134.',\n",
    "        'Greenstein, S. and Zhu, F., 2016. Open content, Linus’ Law, and neutral point of view. Information Systems Research, 27(3), pp.618-635.',\n",
    "        'Hertel, G., Niedner, S. and Herrmann, S., 2003. Motivation of software developers in Open Source projects: an Internet-based survey of contributors to the Linux kernel. Research policy, 32(7), pp.1159-1177.',\n",
    "        'Lerner, J. and Tirole, J., 2001. The open source movement: Key research questions. European economic review, 45(4-6), pp.819-826.',\n",
    "        'Von Krogh, G. and Von Hippel, E., 2006. The promise of research on open source software. Management science, 52(7), pp.975-983.',\n",
    "        'Dahlander, L. and Magnusson, M.G., 2005. Relationships between open source software companies and communities: Observations from Nordic firms. Research policy, 34(4), pp.481-493.',\n",
    "        'Stewart, K.J. and Gosain, S., 2006. The impact of ideology on effectiveness in open source software development teams. Mis Quarterly, pp.291-314.',\n",
    "        'Lakhani, K.R. and Von Hippel, E., 2004. How open source software works:“free” user-to-user assistance. In Produktentwicklung mit virtuellen Communities (pp. 303-339). Gabler Verlag.',\n",
    "        'Alexander Hars, S.O., 2002. Working for free? Motivations for participating in open-source projects. International Journal of Electronic Commerce, 6(3), pp.25-39.',\n",
    "        'Germonprez, M., Kendall, J.E., Kendall, K.E., Mathiassen, L., Young, B. and Warner, B., 2016. A theory of responsive design: A field study of corporate engagement with open source communities. Information Systems Research, 28(1), pp.64-83.',\n",
    "        'August, T., Shin, H. and Tunca, T.I., 2017. Generating Value Through Open Source: Software Service Market Regulation and Licensing Policy. Information Systems Research, 29(1), pp.186-205.',\n",
    "        ' Stewart, K.J., Ammeter, A.P. and Maruping, L.M., 2006. Impacts of license choice and organizational sponsorship on user interest and development activity in open source software projects. Information Systems Research, 17(2), pp.126-144.',\n",
    "        'Levine, S.S. and Prietula, M.J., 2013. Open collaboration for innovation: Principles and performance. Organization Science, 25(5), pp.1414-1433.',\n",
    "        'August, T., Shin, H. and Tunca, T.I., 2013. Licensing and competition for services in open source software. Information Systems Research, 24(4), pp.1068-1086.',\n",
    "        'Shah, S.K., 2006. Motivation, governance, and the viability of hybrid forms in open source software development. Management science, 52(7), pp.1000-1014.',\n",
    "        'Economides, N. and Katsamakas, E., 2006. Two-sided competition of proprietary vs. open source technology platforms and the implications for the software industry. Management Science, 52(7), pp.1057-1071.','Hu, B., Hu, M. and Yang, Y., 2017. Open or closed? technology sharing, supplier investment, and competition. Manufacturing & Service Operations Management, 19(1), pp.132-149.',\n",
    "        ' Lakhani, K.R. and Wolf, R.G., 2003. Why hackers do what they do: Understanding motivation and effort in free/open source software projects.',\n",
    "        'Oreg, S. and Nov, O., 2008. Exploring motivations for contributing to open source initiatives: The roles of contribution context and personal values. Computers in human behavior, 24(5), pp.2055-2073.',\n",
    "        'West, J. and Omahony, S., 2008. The role of participation architecture in growing sponsored open source communities. Industry and innovation, 15(2), pp.145-168.',\n",
    "        'Osterloh, M. and Rota, S., 2007. Open source software development—Just another case of collective invention?. Research Policy, 36(2), pp.157-171.',\n",
    "        'Bonaccorsi, A. and Rossi, C., 2006. Comparing motivations of individual programmers and firms to take part in the open source movement: From community to business. Knowledge, Technology & Policy, 18(4), pp.40-64.',\n",
    "        'Lerner, J. and Tirole, J., 2002. Some simple economics of open source. The journal of industrial economics, 50(2), pp.197-234.',\n",
    "        'Lerner, J. and Tirole, J., 2002. Some simple economics of open source. The journal of industrial economics, 50(2), pp.197-234.',\n",
    "        'Von Krogh, G. and Von Hippel, E., 2003. Special issue on open source software development.','Riehle, D., 2007. The economic motivation of open source software: Stakeholder perspectives. Computer, 40(4)',\n",
    "        'Albors, J., Ramos, J.C. and Hervas, J.L., 2008. New learning network paradigms: Communities of objectives, crowdsourcing, wikis and open source. International Journal of Information Management, 28(3), pp.194-202.',\n",
    "        ' O’Mahony, S., 2007. The governance of open source initiatives: what does it mean to be community managed?. Journal of Management & Governance, 11(2), pp.139-150.',\n",
    "        'Krishnamurthy, S., 2005. An analysis of open source business models.','Healy, K. and Schussman, A., 2003. The ecology of open-source software development. Technical report, University of Arizona, USA.'\n",
    "        ,'Von KROGh, G. and Spaeth, S., 2007. The open source software phenomenon: Characteristics that promote research. The Journal of Strategic Information Systems, 16(3), pp.236-253.']"
   ]
  },
  {
   "cell_type": "code",
   "execution_count": 90,
   "metadata": {},
   "outputs": [
    {
     "name": "stdout",
     "output_type": "stream",
     "text": [
      "Top terms per cluster:\n",
      "Cluster 0:\n",
      " software\n",
      " pp\n",
      " open\n",
      " source\n",
      " von\n",
      " research\n",
      " science\n",
      " development\n",
      " information\n",
      " management\n",
      "Cluster 1:\n",
      " ljungberg\n",
      " ecis\n",
      " value\n",
      " source\n",
      " rolandsson\n",
      " bergquist\n",
      " 122\n",
      " justifying\n",
      " open\n",
      " systems\n",
      "Cluster 2:\n",
      " shaikh\n",
      " 2012\n",
      " cornford\n",
      " open\n",
      " 2017\n",
      " source\n",
      " krishnamurthy\n",
      " models\n",
      " analysis\n",
      " order\n",
      "Cluster 3:\n",
      " economics\n",
      " lerner\n",
      " tirole\n",
      " 2002\n",
      " 50\n",
      " journal\n",
      " simple\n",
      " industrial\n",
      " 234\n",
      " 197\n",
      "\n",
      "\n",
      "Prediction\n"
     ]
    }
   ],
   "source": [
    "vectorizer = TfidfVectorizer(stop_words='english')\n",
    "X = vectorizer.fit_transform(data)\n",
    "\n",
    "true_k = 4\n",
    "model = KMeans(n_clusters=true_k, init='k-means++', max_iter=100, n_init=1)\n",
    "model.fit(X)\n",
    "\n",
    "print(\"Top terms per cluster:\")\n",
    "order_centroids = model.cluster_centers_.argsort()[:, ::-1]\n",
    "terms = vectorizer.get_feature_names()\n",
    "for i in range(true_k):\n",
    "    print(\"Cluster %d:\" % i),\n",
    "    for ind in order_centroids[i, :10]:\n",
    "        print(' %s' % terms[ind]),\n",
    "        \n",
    "    print\n",
    "\n",
    "print(\"\\n\")\n",
    "print(\"Prediction\")\n"
   ]
  },
  {
   "cell_type": "code",
   "execution_count": 91,
   "metadata": {},
   "outputs": [],
   "source": [
    "Y = vectorizer.transform(data)\n",
    "prediction = model.predict(Y)\n",
    "k=prediction"
   ]
  },
  {
   "cell_type": "code",
   "execution_count": 92,
   "metadata": {},
   "outputs": [
    {
     "data": {
      "text/plain": [
       "array([2, 2, 0, 0, 3, 0, 2, 0, 0, 2, 1, 2, 1, 3, 1, 0, 0, 2, 2, 0, 0, 3,\n",
       "       0, 0, 0, 0, 3, 0, 1, 0, 0, 0, 0, 0, 0, 0, 0, 0, 0, 0, 3, 3, 0, 0,\n",
       "       0, 0, 2, 0, 0], dtype=int32)"
      ]
     },
     "execution_count": 92,
     "metadata": {},
     "output_type": "execute_result"
    }
   ],
   "source": [
    "k"
   ]
  },
  {
   "cell_type": "code",
   "execution_count": 93,
   "metadata": {},
   "outputs": [],
   "source": [
    "clus0=[]\n",
    "clus1=[]\n",
    "clus2=[]\n",
    "clus3=[]\n",
    "for i in range(0,49):\n",
    "    if(k[i]==0):\n",
    "        clus0.append(data[i])\n",
    "    elif(k[i]==1):\n",
    "        clus1.append(data[i])\n",
    "    elif(k[i]==2):\n",
    "        clus2.append(data[i])\n",
    "    elif(k[i]==3):\n",
    "        clus3.append(data[i])"
   ]
  },
  {
   "cell_type": "code",
   "execution_count": 94,
   "metadata": {},
   "outputs": [
    {
     "name": "stdout",
     "output_type": "stream",
     "text": [
      "['Faraj, S., von Krogh, G., Monteiro, E. and Lakhani, K.R., 2016. Special Section Introduction—Online Community as Space for Knowledge Flows. Information systems research, 27(4), pp.668-684.', 'Mollick, E.,2016. Filthy lucre Innovative communities, identity, & commercialization. Organization Science, 27(6), pp.1472-1487.Lindberg, A., Berente, N., Gaskin, J. and Lyytinen, K., 2016. Coordinating interdependencies in online communities: A study of an open source software project. Information Systems Research, 27(4), pp.751-772', 'Moqri, M., Mei, X., Qiu, L. and Bandyopadhyay, S., 2018. Effect of “Following” on Contributions to Open Source Communities. Journal of Management Information Systems, 35(4), pp.1188-1217.', 'Kumar, V., Gordon, B.R. and Srinivasan, K., 2011. Competitive strategy for open source software. Marketing Science, 30(6), pp.1066-1078.', 'Naparat, D. and Finnegan, P., 2013. Crowdsourcing Software Requirements and Development: A Mechanism-based Exploration of ‘Opensourcing’.', 'Murray, F. and O Mahony, S., 2007. Exploring the foundations of cumulative innovation: Implications for organization science. Organization Science, 18(6), pp.1006-1021.', 'Agarwal, R., Gupta, A.K. and Kraut, R., 2008. Editorial overview—The interplay between digital and social networksMehra, A., Dewan, R. and Freimer, M., 2011. Firms as incubators of open-source software. Information Systems Research, 22(1), pp.22-38.', 'Greenstein, S. and Zhu, F., 2016. Open content, Linus’ Law, and neutral point of view. Information Systems Research, 27(3), pp.618-635.', 'Hertel, G., Niedner, S. and Herrmann, S., 2003. Motivation of software developers in Open Source projects: an Internet-based survey of contributors to the Linux kernel. Research policy, 32(7), pp.1159-1177.', 'Von Krogh, G. and Von Hippel, E., 2006. The promise of research on open source software. Management science, 52(7), pp.975-983.', 'Dahlander, L. and Magnusson, M.G., 2005. Relationships between open source software companies and communities: Observations from Nordic firms. Research policy, 34(4), pp.481-493.', 'Stewart, K.J. and Gosain, S., 2006. The impact of ideology on effectiveness in open source software development teams. Mis Quarterly, pp.291-314.', 'Lakhani, K.R. and Von Hippel, E., 2004. How open source software works:“free” user-to-user assistance. In Produktentwicklung mit virtuellen Communities (pp. 303-339). Gabler Verlag.', 'Germonprez, M., Kendall, J.E., Kendall, K.E., Mathiassen, L., Young, B. and Warner, B., 2016. A theory of responsive design: A field study of corporate engagement with open source communities. Information Systems Research, 28(1), pp.64-83.', ' Stewart, K.J., Ammeter, A.P. and Maruping, L.M., 2006. Impacts of license choice and organizational sponsorship on user interest and development activity in open source software projects. Information Systems Research, 17(2), pp.126-144.', 'Levine, S.S. and Prietula, M.J., 2013. Open collaboration for innovation: Principles and performance. Organization Science, 25(5), pp.1414-1433.', 'August, T., Shin, H. and Tunca, T.I., 2013. Licensing and competition for services in open source software. Information Systems Research, 24(4), pp.1068-1086.', 'Shah, S.K., 2006. Motivation, governance, and the viability of hybrid forms in open source software development. Management science, 52(7), pp.1000-1014.', 'Economides, N. and Katsamakas, E., 2006. Two-sided competition of proprietary vs. open source technology platforms and the implications for the software industry. Management Science, 52(7), pp.1057-1071.', 'Hu, B., Hu, M. and Yang, Y., 2017. Open or closed? technology sharing, supplier investment, and competition. Manufacturing & Service Operations Management, 19(1), pp.132-149.', ' Lakhani, K.R. and Wolf, R.G., 2003. Why hackers do what they do: Understanding motivation and effort in free/open source software projects.', 'Oreg, S. and Nov, O., 2008. Exploring motivations for contributing to open source initiatives: The roles of contribution context and personal values. Computers in human behavior, 24(5), pp.2055-2073.', 'West, J. and Omahony, S., 2008. The role of participation architecture in growing sponsored open source communities. Industry and innovation, 15(2), pp.145-168.', 'Osterloh, M. and Rota, S., 2007. Open source software development—Just another case of collective invention?. Research Policy, 36(2), pp.157-171.', 'Bonaccorsi, A. and Rossi, C., 2006. Comparing motivations of individual programmers and firms to take part in the open source movement: From community to business. Knowledge, Technology & Policy, 18(4), pp.40-64.', 'Von Krogh, G. and Von Hippel, E., 2003. Special issue on open source software development.', 'Riehle, D., 2007. The economic motivation of open source software: Stakeholder perspectives. Computer, 40(4)', 'Albors, J., Ramos, J.C. and Hervas, J.L., 2008. New learning network paradigms: Communities of objectives, crowdsourcing, wikis and open source. International Journal of Information Management, 28(3), pp.194-202.', ' O’Mahony, S., 2007. The governance of open source initiatives: what does it mean to be community managed?. Journal of Management & Governance, 11(2), pp.139-150.', 'Healy, K. and Schussman, A., 2003. The ecology of open-source software development. Technical report, University of Arizona, USA.', 'Von KROGh, G. and Spaeth, S., 2007. The open source software phenomenon: Characteristics that promote research. The Journal of Strategic Information Systems, 16(3), pp.236-253.']\n"
     ]
    }
   ],
   "source": [
    "print(clus0)"
   ]
  },
  {
   "cell_type": "code",
   "execution_count": 100,
   "metadata": {},
   "outputs": [
    {
     "name": "stdout",
     "output_type": "stream",
     "text": [
      "31\n",
      "4\n",
      "8\n",
      "6\n"
     ]
    }
   ],
   "source": [
    "print(len(clus0))\n",
    "print(len(clus1))\n",
    "print(len(clus2))\n",
    "print(len(clus3))"
   ]
  },
  {
   "cell_type": "code",
   "execution_count": 95,
   "metadata": {},
   "outputs": [
    {
     "name": "stdout",
     "output_type": "stream",
     "text": [
      "['Ljungberg, J., 2000. Open source movements as a model for organising. European Journal of Information Systems, 9(4), pp.208-216.', 'Bergquist, M., Ljungberg, J. and Rolandsson, B., 2012. Justifying the Value of Open Source. In ECIS (p. 122).', 'Santos Jr, C.D., Kon, F. and Pearson, J., 2010. Attractiveness Of Free And Open Source Software Projects. In ECIS (p. 105).', 'August, T., Shin, H. and Tunca, T.I., 2017. Generating Value Through Open Source: Software Service Market Regulation and Licensing Policy. Information Systems Research, 29(1), pp.186-205.']\n"
     ]
    }
   ],
   "source": [
    "print(clus1)"
   ]
  },
  {
   "cell_type": "code",
   "execution_count": 96,
   "metadata": {},
   "outputs": [
    {
     "name": "stdout",
     "output_type": "stream",
     "text": [
      "['Wang, Z. and Hahn, J., 2017. The Effects of Programming Style on Open Source Collaboration.', 'Hukal, P., 2017. On the Role of Module Interdependencies in Platform Evolution.,', 'Shaikh, M. and Vaast, E., 2018. The Algorithmic Interaction Order in Open Source.', 'Shaikh, M. and Cornford, T., 2009. Innovating with open-sourcing: governance concerns for managers.', 'Shaikh, M. and Cornford, T., 2012. Navigating open source adoption in the public sector.', ' Setia, P., Rajagopalan, B., Sambamurthy, V. and Calantone, R., 2012. How peripheral developers contribute to open-source software development. Information Systems Research, 23(1), pp.144-163.', 'Golinelli, G.M., Barile, S., Saviano, M. and Polese, F., 2012. Perspective shifts in marketing: toward a paradigm change?. Service Science, 4(2), pp.121-134.', 'Krishnamurthy, S., 2005. An analysis of open source business models.']\n"
     ]
    }
   ],
   "source": [
    "print(clus2)"
   ]
  },
  {
   "cell_type": "code",
   "execution_count": 97,
   "metadata": {},
   "outputs": [
    {
     "name": "stdout",
     "output_type": "stream",
     "text": [
      "['Howison, James and Crowston, Kevin. 2014. \"Collaboration Through Open Superposition: A Theory of the Open Source Way,\" MIS Quarterly, (38: 1) pp.29-50.', 'Fiedler, M. and Sarstedt, M., 2014. Influence of community design on user behaviors in online communities. Journal of Business Research, 67(11), pp.2258-2268.', 'Lerner, J. and Tirole, J., 2001. The open source movement: Key research questions. European economic review, 45(4-6), pp.819-826.', 'Alexander Hars, S.O., 2002. Working for free? Motivations for participating in open-source projects. International Journal of Electronic Commerce, 6(3), pp.25-39.', 'Lerner, J. and Tirole, J., 2002. Some simple economics of open source. The journal of industrial economics, 50(2), pp.197-234.', 'Lerner, J. and Tirole, J., 2002. Some simple economics of open source. The journal of industrial economics, 50(2), pp.197-234.']\n"
     ]
    }
   ],
   "source": [
    "print(clus3)"
   ]
  }
 ],
 "metadata": {
  "kernelspec": {
   "display_name": "Python 3",
   "language": "python",
   "name": "python3"
  },
  "language_info": {
   "codemirror_mode": {
    "name": "ipython",
    "version": 3
   },
   "file_extension": ".py",
   "mimetype": "text/x-python",
   "name": "python",
   "nbconvert_exporter": "python",
   "pygments_lexer": "ipython3",
   "version": "3.6.5"
  }
 },
 "nbformat": 4,
 "nbformat_minor": 2
}
